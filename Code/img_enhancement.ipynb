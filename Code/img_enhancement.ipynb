{
 "cells": [
  {
   "cell_type": "code",
   "execution_count": null,
   "metadata": {},
   "outputs": [],
   "source": [
    "import numpy as np\n",
    "import pandas as pd\n",
    "import seaborn as sns\n",
    "import tensorflow as tf\n",
    "from tensorflow import keras\n",
    "import matplotlib.pyplot as plt\n",
    "import os\n",
    "import cv2"
   ]
  },
  {
   "cell_type": "markdown",
   "metadata": {},
   "source": [
    "## Histogram Equalization"
   ]
  },
  {
   "cell_type": "code",
   "execution_count": null,
   "metadata": {},
   "outputs": [
    {
     "name": "stdout",
     "output_type": "stream",
     "text": [
      "C:/Users/dell/Documents/VIT/7th_Semester/CSE4038_Computer_Vision_in_Healthcare_Application/Project/Dataset/Original/train_org/MildDemented\n",
      "C:/Users/dell/Documents/VIT/7th_Semester/CSE4038_Computer_Vision_in_Healthcare_Application/Project/Dataset/Original/train_org/ModerateDemented\n",
      "C:/Users/dell/Documents/VIT/7th_Semester/CSE4038_Computer_Vision_in_Healthcare_Application/Project/Dataset/Original/train_org/NonDemented\n",
      "C:/Users/dell/Documents/VIT/7th_Semester/CSE4038_Computer_Vision_in_Healthcare_Application/Project/Dataset/Original/train_org/VeryMildDemented\n"
     ]
    }
   ],
   "source": [
    "## HISTOGRAM EQUALIZATION\n",
    "#train data\n",
    "from os import listdir\n",
    " \n",
    "# get the path/directory\n",
    "classes = ['MildDemented', 'ModerateDemented', 'NonDemented', 'VeryMildDemented']\n",
    "for cl in classes:\n",
    "    folder_dir = \"C:/Users/dell/Documents/VIT/7th_Semester/CSE4038_Computer_Vision_in_Healthcare_Application/Project/Dataset/Original/train_org/\" + cl\n",
    "    print(folder_dir)\n",
    "    count = 0\n",
    "    for images in os.listdir(folder_dir):\n",
    "        # check if the image ends with jpg\n",
    "        if (images.endswith(\".jpg\")):\n",
    "            # frame_normed = 255 * (image - image.min()) / (image.max() - image.min())\n",
    "            # frame_normed = np.array(frame_normed, np.int)\n",
    "            # print(folder_dir + \"/\" + images)\n",
    "            img = cv2.imread(folder_dir + \"/\" + images)\n",
    "            gray_img=cv2.cvtColor(img,cv2.COLOR_BGR2GRAY)\n",
    "            # print(gray_img)\n",
    "            gray_img_eqhist = cv2.equalizeHist(gray_img)\n",
    "            target_dir = \"C:/Users/dell/Documents/VIT/7th_Semester/CSE4038_Computer_Vision_in_Healthcare_Application/Project/Dataset/Histogram_Equalized/train/\" + cl\n",
    "            # print(\"target directory\")\n",
    "            # print(target_dir)\n",
    "            cv2.imwrite(os.path.join(target_dir , 'img{0}.jpg'.format(count)), gray_img_eqhist)\n",
    "            count += 1"
   ]
  },
  {
   "cell_type": "code",
   "execution_count": null,
   "metadata": {},
   "outputs": [
    {
     "name": "stdout",
     "output_type": "stream",
     "text": [
      "C:/Users/dell/Documents/VIT/7th_Semester/CSE4038_Computer_Vision_in_Healthcare_Application/Project/Dataset/Original/test/MildDemented\n",
      "C:/Users/dell/Documents/VIT/7th_Semester/CSE4038_Computer_Vision_in_Healthcare_Application/Project/Dataset/Original/test/ModerateDemented\n",
      "C:/Users/dell/Documents/VIT/7th_Semester/CSE4038_Computer_Vision_in_Healthcare_Application/Project/Dataset/Original/test/NonDemented\n",
      "C:/Users/dell/Documents/VIT/7th_Semester/CSE4038_Computer_Vision_in_Healthcare_Application/Project/Dataset/Original/test/VeryMildDemented\n"
     ]
    }
   ],
   "source": [
    "## HISTOGRAM EQUALIZATION\n",
    "#test data\n",
    "from os import listdir\n",
    " \n",
    "# get the path/directory\n",
    "classes = ['MildDemented', 'ModerateDemented', 'NonDemented', 'VeryMildDemented']\n",
    "for cl in classes:\n",
    "    folder_dir = \"C:/Users/dell/Documents/VIT/7th_Semester/CSE4038_Computer_Vision_in_Healthcare_Application/Project/Dataset/Original/test/\" + cl\n",
    "    print(folder_dir)\n",
    "    count = 0\n",
    "    for images in os.listdir(folder_dir):\n",
    "        # check if the image ends with jpg\n",
    "        if (images.endswith(\".jpg\")):\n",
    "            # frame_normed = 255 * (image - image.min()) / (image.max() - image.min())\n",
    "            # frame_normed = np.array(frame_normed, np.int)\n",
    "            # print(folder_dir + \"/\" + images)\n",
    "            img = cv2.imread(folder_dir + \"/\" + images)\n",
    "            gray_img=cv2.cvtColor(img,cv2.COLOR_BGR2GRAY)\n",
    "            # print(gray_img)\n",
    "            gray_img_eqhist = cv2.equalizeHist(gray_img)\n",
    "            target_dir = \"C:/Users/dell/Documents/VIT/7th_Semester/CSE4038_Computer_Vision_in_Healthcare_Application/Project/Dataset/Histogram_Equalized/test/\" + cl \n",
    "            # print(\"target directory\")\n",
    "            # print(target_dir)\n",
    "            cv2.imwrite(os.path.join(target_dir , 'img{0}.jpg'.format(count)), gray_img_eqhist)\n",
    "            count += 1"
   ]
  },
  {
   "cell_type": "markdown",
   "metadata": {},
   "source": [
    "## Gaussian Filter"
   ]
  },
  {
   "cell_type": "code",
   "execution_count": null,
   "metadata": {},
   "outputs": [
    {
     "name": "stdout",
     "output_type": "stream",
     "text": [
      "C:/Users/dell/Documents/VIT/7th_Semester/CSE4038_Computer_Vision_in_Healthcare_Application/Project/Dataset/Original/train_org/MildDemented\n",
      "C:/Users/dell/Documents/VIT/7th_Semester/CSE4038_Computer_Vision_in_Healthcare_Application/Project/Dataset/Original/train_org/ModerateDemented\n",
      "C:/Users/dell/Documents/VIT/7th_Semester/CSE4038_Computer_Vision_in_Healthcare_Application/Project/Dataset/Original/train_org/NonDemented\n",
      "C:/Users/dell/Documents/VIT/7th_Semester/CSE4038_Computer_Vision_in_Healthcare_Application/Project/Dataset/Original/train_org/VeryMildDemented\n"
     ]
    }
   ],
   "source": [
    "##GAUSSIAN FILTER\n",
    "#train data\n",
    "\n",
    "# get the path/directory\n",
    "classes = ['MildDemented', 'ModerateDemented', 'NonDemented', 'VeryMildDemented']\n",
    "for cl in classes:\n",
    "    folder_dir = \"C:/Users/dell/Documents/VIT/7th_Semester/CSE4038_Computer_Vision_in_Healthcare_Application/Project/Dataset/Original/train_org/\" + cl\n",
    "    print(folder_dir)\n",
    "    count = 0\n",
    "    for images in os.listdir(folder_dir):\n",
    "        # check if the image ends with jpg\n",
    "        if (images.endswith(\".jpg\")):\n",
    "            # print(folder_dir + \"/\" + images)\n",
    "            img = cv2.imread(folder_dir + \"/\" + images)\n",
    "            # print(gray_img)\n",
    "            gray_img_eqhist = cv2.GaussianBlur(img, (9, 9),0)\n",
    "            target_dir = \"C:/Users/dell/Documents/VIT/7th_Semester/CSE4038_Computer_Vision_in_Healthcare_Application/Project/Dataset/Gaussian/train/\" + cl \n",
    "            # print(\"target directory\")\n",
    "            # print(target_dir)\n",
    "            cv2.imwrite(os.path.join(target_dir , 'img{0}.jpg'.format(count)), gray_img_eqhist)\n",
    "            count += 1"
   ]
  },
  {
   "cell_type": "code",
   "execution_count": null,
   "metadata": {},
   "outputs": [
    {
     "name": "stdout",
     "output_type": "stream",
     "text": [
      "C:/Users/dell/Documents/VIT/7th_Semester/CSE4038_Computer_Vision_in_Healthcare_Application/Project/Dataset/Original/test/MildDemented\n",
      "C:/Users/dell/Documents/VIT/7th_Semester/CSE4038_Computer_Vision_in_Healthcare_Application/Project/Dataset/Original/test/ModerateDemented\n",
      "C:/Users/dell/Documents/VIT/7th_Semester/CSE4038_Computer_Vision_in_Healthcare_Application/Project/Dataset/Original/test/NonDemented\n",
      "C:/Users/dell/Documents/VIT/7th_Semester/CSE4038_Computer_Vision_in_Healthcare_Application/Project/Dataset/Original/test/VeryMildDemented\n"
     ]
    }
   ],
   "source": [
    "##GAUSSIAN FILTER\n",
    "#test data\n",
    "\n",
    "# get the path/directory\n",
    "classes = ['MildDemented', 'ModerateDemented', 'NonDemented', 'VeryMildDemented']\n",
    "for cl in classes:\n",
    "    folder_dir = \"C:/Users/dell/Documents/VIT/7th_Semester/CSE4038_Computer_Vision_in_Healthcare_Application/Project/Dataset/Original/test/\" + cl\n",
    "    print(folder_dir)\n",
    "    count = 0\n",
    "    for images in os.listdir(folder_dir):\n",
    "        # check if the image ends with jpg\n",
    "        if (images.endswith(\".jpg\")):\n",
    "            # print(folder_dir + \"/\" + images)\n",
    "            img = cv2.imread(folder_dir + \"/\" + images)\n",
    "            # print(gray_img)\n",
    "            gray_img_eqhist = cv2.GaussianBlur(img, (9, 9),0)\n",
    "            target_dir = \"C:/Users/dell/Documents/VIT/7th_Semester/CSE4038_Computer_Vision_in_Healthcare_Application/Project/Dataset/Gaussian/test/\" + cl \n",
    "            # print(\"target directory\")\n",
    "            # print(target_dir)\n",
    "            cv2.imwrite(os.path.join(target_dir , 'img{0}.jpg'.format(count)), gray_img_eqhist)\n",
    "            count += 1"
   ]
  },
  {
   "cell_type": "markdown",
   "metadata": {},
   "source": [
    "## Unsharp Filter"
   ]
  },
  {
   "cell_type": "code",
   "execution_count": null,
   "metadata": {},
   "outputs": [],
   "source": [
    "##UNSHARP FILTER\n",
    "#train data\n",
    "\n",
    "# get the path/directory\n",
    "from PIL import ImageFilter\n",
    "from PIL import Image\n",
    "import numpy\n",
    "classes = ['MildDemented', 'ModerateDemented', 'NonDemented', 'VeryMildDemented']\n",
    "for cl in classes:\n",
    "    folder_dir = \"C:/Users/dell/Documents/VIT/7th_Semester/CSE4038_Computer_Vision_in_Healthcare_Application/Project/Dataset/Original/train_org/\" + cl\n",
    "    # print(folder_dir)\n",
    "    count = 0\n",
    "    for images in os.listdir(folder_dir):\n",
    "        # check if the image ends with jpg\n",
    "        if (images.endswith(\".jpg\")):\n",
    "            # print(folder_dir + \"/\" + images)\n",
    "            img = cv2.imread(folder_dir + \"/\" + images)\n",
    "            # print(gray_img)\n",
    "            image = Image.fromarray(img.astype('uint8'))\n",
    "            new_image = image.filter(ImageFilter.UnsharpMask(radius=2))\n",
    "            newImg = numpy.array(new_image)\n",
    "            # print(type(new_image))\n",
    "            target_dir = \"C:/Users/dell/Documents/VIT/7th_Semester/CSE4038_Computer_Vision_in_Healthcare_Application/Project/Dataset/Unsharp/train/\" + cl \n",
    "            # print(\"target directory\")\n",
    "            # print(target_dir)\n",
    "            cv2.imwrite(os.path.join(target_dir , 'img{0}.jpg'.format(count)), newImg)\n",
    "            count += 1"
   ]
  },
  {
   "cell_type": "code",
   "execution_count": null,
   "metadata": {},
   "outputs": [],
   "source": [
    "##UNSHARP FILTER\n",
    "#test data\n",
    "\n",
    "# get the path/directory\n",
    "from PIL import ImageFilter\n",
    "from PIL import Image\n",
    "import numpy\n",
    "classes = ['MildDemented', 'ModerateDemented', 'NonDemented', 'VeryMildDemented']\n",
    "for cl in classes:\n",
    "    folder_dir = \"C:/Users/dell/Documents/VIT/7th_Semester/CSE4038_Computer_Vision_in_Healthcare_Application/Project/Dataset/Original/test/\" + cl\n",
    "    # print(folder_dir)\n",
    "    count = 0\n",
    "    for images in os.listdir(folder_dir):\n",
    "        # check if the image ends with jpg\n",
    "        if (images.endswith(\".jpg\")):\n",
    "            # print(folder_dir + \"/\" + images)\n",
    "            img = cv2.imread(folder_dir + \"/\" + images)\n",
    "            # print(gray_img)\n",
    "            image = Image.fromarray(img.astype('uint8'))\n",
    "            new_image = image.filter(ImageFilter.UnsharpMask(radius=2, percent=150))\n",
    "            newImg = numpy.array(new_image)\n",
    "            # print(type(new_image))\n",
    "            target_dir = \"C:/Users/dell/Documents/VIT/7th_Semester/CSE4038_Computer_Vision_in_Healthcare_Application/Project/Dataset/Unsharp/test/\" + cl \n",
    "            # print(\"target directory\")\n",
    "            # print(target_dir)\n",
    "            cv2.imwrite(os.path.join(target_dir , 'img{0}.jpg'.format(count)), newImg)\n",
    "            count += 1"
   ]
  }
 ],
 "metadata": {
  "kernelspec": {
   "display_name": "Python 3 (ipykernel)",
   "language": "python",
   "name": "python3"
  },
  "language_info": {
   "codemirror_mode": {
    "name": "ipython",
    "version": 3
   },
   "file_extension": ".py",
   "mimetype": "text/x-python",
   "name": "python",
   "nbconvert_exporter": "python",
   "pygments_lexer": "ipython3",
   "version": "3.9.11"
  }
 },
 "nbformat": 4,
 "nbformat_minor": 2
}
